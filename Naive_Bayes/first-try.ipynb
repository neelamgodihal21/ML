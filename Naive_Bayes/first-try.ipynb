{
 "cells": [
  {
   "cell_type": "code",
   "execution_count": 1,
   "id": "a15ff05e",
   "metadata": {},
   "outputs": [],
   "source": [
    "from sklearn import preprocessing"
   ]
  },
  {
   "cell_type": "code",
   "execution_count": 2,
   "id": "f6b581d4",
   "metadata": {},
   "outputs": [],
   "source": [
    "le=preprocessing.LabelEncoder()"
   ]
  },
  {
   "cell_type": "code",
   "execution_count": 3,
   "id": "9e4ad6b7",
   "metadata": {},
   "outputs": [],
   "source": [
    "import pandas as pd"
   ]
  },
  {
   "cell_type": "code",
   "execution_count": 4,
   "id": "85f4217a",
   "metadata": {},
   "outputs": [],
   "source": [
    "data=pd.read_csv('data.csv')"
   ]
  },
  {
   "cell_type": "code",
   "execution_count": 5,
   "id": "d1dc28c3",
   "metadata": {},
   "outputs": [
    {
     "data": {
      "text/html": [
       "<div>\n",
       "<style scoped>\n",
       "    .dataframe tbody tr th:only-of-type {\n",
       "        vertical-align: middle;\n",
       "    }\n",
       "\n",
       "    .dataframe tbody tr th {\n",
       "        vertical-align: top;\n",
       "    }\n",
       "\n",
       "    .dataframe thead th {\n",
       "        text-align: right;\n",
       "    }\n",
       "</style>\n",
       "<table border=\"1\" class=\"dataframe\">\n",
       "  <thead>\n",
       "    <tr style=\"text-align: right;\">\n",
       "      <th></th>\n",
       "      <th>color</th>\n",
       "      <th>type</th>\n",
       "      <th>origin</th>\n",
       "      <th>stolen</th>\n",
       "    </tr>\n",
       "  </thead>\n",
       "  <tbody>\n",
       "    <tr>\n",
       "      <th>0</th>\n",
       "      <td>red</td>\n",
       "      <td>sports</td>\n",
       "      <td>domestic</td>\n",
       "      <td>yes</td>\n",
       "    </tr>\n",
       "    <tr>\n",
       "      <th>1</th>\n",
       "      <td>red</td>\n",
       "      <td>sports</td>\n",
       "      <td>domestic</td>\n",
       "      <td>no</td>\n",
       "    </tr>\n",
       "    <tr>\n",
       "      <th>2</th>\n",
       "      <td>red</td>\n",
       "      <td>sports</td>\n",
       "      <td>domestic</td>\n",
       "      <td>yes</td>\n",
       "    </tr>\n",
       "    <tr>\n",
       "      <th>3</th>\n",
       "      <td>yellow</td>\n",
       "      <td>sports</td>\n",
       "      <td>domestic</td>\n",
       "      <td>no</td>\n",
       "    </tr>\n",
       "    <tr>\n",
       "      <th>4</th>\n",
       "      <td>yellow</td>\n",
       "      <td>sports</td>\n",
       "      <td>imported</td>\n",
       "      <td>yes</td>\n",
       "    </tr>\n",
       "    <tr>\n",
       "      <th>5</th>\n",
       "      <td>yellow</td>\n",
       "      <td>suv</td>\n",
       "      <td>imported</td>\n",
       "      <td>no</td>\n",
       "    </tr>\n",
       "    <tr>\n",
       "      <th>6</th>\n",
       "      <td>yellow</td>\n",
       "      <td>suv</td>\n",
       "      <td>imported</td>\n",
       "      <td>yes</td>\n",
       "    </tr>\n",
       "    <tr>\n",
       "      <th>7</th>\n",
       "      <td>yellow</td>\n",
       "      <td>suv</td>\n",
       "      <td>domestic</td>\n",
       "      <td>no</td>\n",
       "    </tr>\n",
       "    <tr>\n",
       "      <th>8</th>\n",
       "      <td>red</td>\n",
       "      <td>suv</td>\n",
       "      <td>imported</td>\n",
       "      <td>no</td>\n",
       "    </tr>\n",
       "    <tr>\n",
       "      <th>9</th>\n",
       "      <td>red</td>\n",
       "      <td>sports</td>\n",
       "      <td>imported</td>\n",
       "      <td>yes</td>\n",
       "    </tr>\n",
       "  </tbody>\n",
       "</table>\n",
       "</div>"
      ],
      "text/plain": [
       "    color    type    origin stolen\n",
       "0     red  sports  domestic    yes\n",
       "1     red  sports  domestic     no\n",
       "2     red  sports  domestic    yes\n",
       "3  yellow  sports  domestic     no\n",
       "4  yellow  sports  imported    yes\n",
       "5  yellow     suv  imported     no\n",
       "6  yellow     suv  imported    yes\n",
       "7  yellow     suv  domestic     no\n",
       "8     red     suv  imported     no\n",
       "9     red  sports  imported    yes"
      ]
     },
     "execution_count": 5,
     "metadata": {},
     "output_type": "execute_result"
    }
   ],
   "source": [
    "data"
   ]
  },
  {
   "cell_type": "code",
   "execution_count": 6,
   "id": "d5745592",
   "metadata": {},
   "outputs": [],
   "source": [
    "features=[feat for feat in data]"
   ]
  },
  {
   "cell_type": "code",
   "execution_count": 7,
   "id": "93a2bedc",
   "metadata": {},
   "outputs": [
    {
     "data": {
      "text/plain": [
       "['color', 'type', 'origin', 'stolen']"
      ]
     },
     "execution_count": 7,
     "metadata": {},
     "output_type": "execute_result"
    }
   ],
   "source": [
    "features"
   ]
  },
  {
   "cell_type": "code",
   "execution_count": 8,
   "id": "038eb667",
   "metadata": {},
   "outputs": [
    {
     "name": "stdout",
     "output_type": "stream",
     "text": [
      "color\n",
      "type\n",
      "origin\n",
      "stolen\n"
     ]
    }
   ],
   "source": [
    "for feat in data:\n",
    "    print(feat)"
   ]
  },
  {
   "cell_type": "code",
   "execution_count": 10,
   "id": "aec815dc",
   "metadata": {},
   "outputs": [
    {
     "data": {
      "text/plain": [
       "0       red\n",
       "1       red\n",
       "2       red\n",
       "3    yellow\n",
       "4    yellow\n",
       "5    yellow\n",
       "6    yellow\n",
       "7    yellow\n",
       "8       red\n",
       "9       red\n",
       "Name: color, dtype: object"
      ]
     },
     "execution_count": 10,
     "metadata": {},
     "output_type": "execute_result"
    }
   ],
   "source": [
    "data['color']"
   ]
  },
  {
   "cell_type": "code",
   "execution_count": 11,
   "id": "e87f023e",
   "metadata": {},
   "outputs": [
    {
     "name": "stdout",
     "output_type": "stream",
     "text": [
      "red\n",
      "red\n",
      "red\n",
      "yellow\n",
      "yellow\n",
      "yellow\n",
      "yellow\n",
      "yellow\n",
      "red\n",
      "red\n",
      "sports\n",
      "sports\n",
      "sports\n",
      "sports\n",
      "sports\n",
      "suv\n",
      "suv\n",
      "suv\n",
      "suv\n",
      "sports\n",
      "domestic\n",
      "domestic\n",
      "domestic\n",
      "domestic\n",
      "imported\n",
      "imported\n",
      "imported\n",
      "domestic\n",
      "imported\n",
      "imported\n",
      "yes\n",
      "no\n",
      "yes\n",
      "no\n",
      "yes\n",
      "no\n",
      "yes\n",
      "no\n",
      "no\n",
      "yes\n"
     ]
    }
   ],
   "source": [
    "diff_values=[]\n",
    "for f in features:\n",
    "    for v in data[f]:\n",
    "        print(v)"
   ]
  },
  {
   "cell_type": "code",
   "execution_count": 13,
   "id": "16469746",
   "metadata": {},
   "outputs": [
    {
     "data": {
      "text/plain": [
       "['red', 'yellow', 'sports', 'suv', 'domestic', 'imported', 'yes', 'no']"
      ]
     },
     "execution_count": 13,
     "metadata": {},
     "output_type": "execute_result"
    }
   ],
   "source": [
    "diff_values=[]\n",
    "for f in features:\n",
    "    for v in data[f]:\n",
    "        if v not in diff_values:\n",
    "            diff_values.append(v)\n",
    "\n",
    "diff_values"
   ]
  },
  {
   "cell_type": "code",
   "execution_count": 14,
   "id": "e32347c7",
   "metadata": {},
   "outputs": [
    {
     "data": {
      "text/plain": [
       "LabelEncoder()"
      ]
     },
     "execution_count": 14,
     "metadata": {},
     "output_type": "execute_result"
    }
   ],
   "source": [
    "le.fit(diff_values)"
   ]
  },
  {
   "cell_type": "code",
   "execution_count": 15,
   "id": "1bb819ac",
   "metadata": {},
   "outputs": [
    {
     "data": {
      "text/plain": [
       "['domestic', 'imported', 'no', 'red', 'sports', 'suv', 'yellow', 'yes']"
      ]
     },
     "execution_count": 15,
     "metadata": {},
     "output_type": "execute_result"
    }
   ],
   "source": [
    "list(le.classes_)"
   ]
  },
  {
   "cell_type": "code",
   "execution_count": 16,
   "id": "0ef77343",
   "metadata": {},
   "outputs": [],
   "source": [
    "import numpy as np\n",
    "dataArray=np.array(data)"
   ]
  },
  {
   "cell_type": "code",
   "execution_count": 17,
   "id": "23b8f699",
   "metadata": {},
   "outputs": [
    {
     "data": {
      "text/plain": [
       "array([['red', 'sports', 'domestic', 'yes'],\n",
       "       ['red', 'sports', 'domestic', 'no'],\n",
       "       ['red', 'sports', 'domestic', 'yes'],\n",
       "       ['yellow', 'sports', 'domestic', 'no'],\n",
       "       ['yellow', 'sports', 'imported', 'yes'],\n",
       "       ['yellow', 'suv', 'imported', 'no'],\n",
       "       ['yellow', 'suv', 'imported', 'yes'],\n",
       "       ['yellow', 'suv', 'domestic', 'no'],\n",
       "       ['red', 'suv', 'imported', 'no'],\n",
       "       ['red', 'sports', 'imported', 'yes']], dtype=object)"
      ]
     },
     "execution_count": 17,
     "metadata": {},
     "output_type": "execute_result"
    }
   ],
   "source": [
    "dataArray"
   ]
  },
  {
   "cell_type": "code",
   "execution_count": 18,
   "id": "8ac97a20",
   "metadata": {},
   "outputs": [
    {
     "data": {
      "text/plain": [
       "(10, 4)"
      ]
     },
     "execution_count": 18,
     "metadata": {},
     "output_type": "execute_result"
    }
   ],
   "source": [
    "dataArray.shape"
   ]
  },
  {
   "cell_type": "code",
   "execution_count": 19,
   "id": "1d241042",
   "metadata": {},
   "outputs": [
    {
     "data": {
      "text/plain": [
       "array([3, 4, 0, 7])"
      ]
     },
     "execution_count": 19,
     "metadata": {},
     "output_type": "execute_result"
    }
   ],
   "source": [
    "le.transform(dataArray[0])"
   ]
  },
  {
   "cell_type": "markdown",
   "id": "4fa0ef91",
   "metadata": {},
   "source": [
    "# Experiment complete"
   ]
  },
  {
   "cell_type": "code",
   "execution_count": 22,
   "id": "0145b52c",
   "metadata": {},
   "outputs": [],
   "source": [
    "import numpy as np\n",
    "import pandas as pd\n",
    "from sklearn import preprocessing"
   ]
  },
  {
   "cell_type": "code",
   "execution_count": 23,
   "id": "a6b68717",
   "metadata": {},
   "outputs": [],
   "source": [
    "le=preprocessing.LabelEncoder()\n",
    "data=pd.read_csv('data.csv')"
   ]
  },
  {
   "cell_type": "code",
   "execution_count": 20,
   "id": "bb707815",
   "metadata": {},
   "outputs": [
    {
     "data": {
      "text/plain": [
       "['color', 'type', 'origin']"
      ]
     },
     "execution_count": 20,
     "metadata": {},
     "output_type": "execute_result"
    }
   ],
   "source": [
    "features=[feat for feat in data]\n",
    "features.remove('stolen')\n",
    "features"
   ]
  },
  {
   "cell_type": "code",
   "execution_count": 21,
   "id": "edc46d39",
   "metadata": {},
   "outputs": [
    {
     "data": {
      "text/plain": [
       "['red', 'yellow', 'sports', 'suv', 'domestic', 'imported']"
      ]
     },
     "execution_count": 21,
     "metadata": {},
     "output_type": "execute_result"
    }
   ],
   "source": [
    "diff_values=[]\n",
    "for f in features:\n",
    "    for v in data[f]:\n",
    "        if v not in diff_values:\n",
    "            diff_values.append(v)\n",
    "\n",
    "diff_values"
   ]
  },
  {
   "cell_type": "code",
   "execution_count": 26,
   "id": "8ecc6e4e",
   "metadata": {},
   "outputs": [
    {
     "data": {
      "text/plain": [
       "array([['red', 'sports', 'domestic'],\n",
       "       ['red', 'sports', 'domestic'],\n",
       "       ['red', 'sports', 'domestic'],\n",
       "       ['yellow', 'sports', 'domestic'],\n",
       "       ['yellow', 'sports', 'imported'],\n",
       "       ['yellow', 'suv', 'imported'],\n",
       "       ['yellow', 'suv', 'imported'],\n",
       "       ['yellow', 'suv', 'domestic'],\n",
       "       ['red', 'suv', 'imported'],\n",
       "       ['red', 'sports', 'imported']], dtype=object)"
      ]
     },
     "execution_count": 26,
     "metadata": {},
     "output_type": "execute_result"
    }
   ],
   "source": [
    "dataArray=np.array(data.iloc[:,0:-1])\n",
    "dataArray"
   ]
  },
  {
   "cell_type": "code",
   "execution_count": 28,
   "id": "3dc02758",
   "metadata": {},
   "outputs": [
    {
     "data": {
      "text/plain": [
       "['domestic', 'imported', 'red', 'sports', 'suv', 'yellow']"
      ]
     },
     "execution_count": 28,
     "metadata": {},
     "output_type": "execute_result"
    }
   ],
   "source": [
    "le.fit(diff_values)\n",
    "list(le.classes_)"
   ]
  },
  {
   "cell_type": "code",
   "execution_count": 33,
   "id": "d03cc94f",
   "metadata": {},
   "outputs": [
    {
     "data": {
      "text/plain": [
       "array([[2, 3, 0],\n",
       "       [2, 3, 0],\n",
       "       [2, 3, 0],\n",
       "       [5, 3, 0],\n",
       "       [5, 3, 1],\n",
       "       [5, 4, 1],\n",
       "       [5, 4, 1],\n",
       "       [5, 4, 0],\n",
       "       [2, 4, 1],\n",
       "       [2, 3, 1]])"
      ]
     },
     "execution_count": 33,
     "metadata": {},
     "output_type": "execute_result"
    }
   ],
   "source": [
    "trans=[]\n",
    "for d in dataArray:\n",
    "    trans.append(le.transform(d))\n",
    "trans"
   ]
  },
  {
   "cell_type": "code",
   "execution_count": 34,
   "id": "879d6317",
   "metadata": {},
   "outputs": [
    {
     "data": {
      "text/plain": [
       "0    yes\n",
       "1     no\n",
       "2    yes\n",
       "3     no\n",
       "4    yes\n",
       "5     no\n",
       "6    yes\n",
       "7     no\n",
       "8     no\n",
       "9    yes\n",
       "Name: stolen, dtype: object"
      ]
     },
     "execution_count": 34,
     "metadata": {},
     "output_type": "execute_result"
    }
   ],
   "source": [
    "target=data['stolen']\n",
    "target"
   ]
  },
  {
   "cell_type": "code",
   "execution_count": 35,
   "id": "b307d91e",
   "metadata": {},
   "outputs": [],
   "source": [
    "target=np.array(target)"
   ]
  },
  {
   "cell_type": "code",
   "execution_count": 37,
   "id": "d6f80ffe",
   "metadata": {},
   "outputs": [
    {
     "data": {
      "text/plain": [
       "[1, 0, 1, 0, 1, 0, 1, 0, 0, 1]"
      ]
     },
     "execution_count": 37,
     "metadata": {},
     "output_type": "execute_result"
    }
   ],
   "source": [
    "tar=[]\n",
    "for t in target:\n",
    "    if t == \"yes\":\n",
    "        tar.append(1)\n",
    "    else:\n",
    "        tar.append(0)\n",
    "tar"
   ]
  },
  {
   "cell_type": "markdown",
   "id": "78f1a12c",
   "metadata": {},
   "source": [
    "# Running Multinomial theorem"
   ]
  },
  {
   "cell_type": "code",
   "execution_count": 38,
   "id": "c2d2bb07",
   "metadata": {},
   "outputs": [],
   "source": [
    "from sklearn.naive_bayes import MultinomialNB"
   ]
  },
  {
   "cell_type": "code",
   "execution_count": 39,
   "id": "9352bf64",
   "metadata": {},
   "outputs": [],
   "source": [
    "clf = MultinomialNB()"
   ]
  },
  {
   "cell_type": "code",
   "execution_count": 40,
   "id": "0f29a49e",
   "metadata": {},
   "outputs": [
    {
     "data": {
      "text/plain": [
       "MultinomialNB()"
      ]
     },
     "execution_count": 40,
     "metadata": {},
     "output_type": "execute_result"
    }
   ],
   "source": [
    "clf.fit(trans,tar)"
   ]
  },
  {
   "cell_type": "markdown",
   "id": "5f88c365",
   "metadata": {},
   "source": [
    "# trying to predict"
   ]
  },
  {
   "cell_type": "code",
   "execution_count": 46,
   "id": "447bd9fc",
   "metadata": {},
   "outputs": [],
   "source": [
    "predicting=[\"red\",\"suv\",\"domestic\"]\n",
    "pre_array=le.transform(predicting)"
   ]
  },
  {
   "cell_type": "code",
   "execution_count": 62,
   "id": "6dc0eec3",
   "metadata": {},
   "outputs": [
    {
     "data": {
      "text/plain": [
       "array([[2, 4, 0]])"
      ]
     },
     "execution_count": 62,
     "metadata": {},
     "output_type": "execute_result"
    }
   ],
   "source": [
    "pre_array=np.reshape(pre_array,(1,3))\n",
    "pre_array"
   ]
  },
  {
   "cell_type": "code",
   "execution_count": 63,
   "id": "8f06918b",
   "metadata": {},
   "outputs": [
    {
     "name": "stdout",
     "output_type": "stream",
     "text": [
      "[0]\n"
     ]
    }
   ],
   "source": [
    "print(clf.predict(pre_array))"
   ]
  },
  {
   "cell_type": "code",
   "execution_count": 50,
   "id": "f88fc227",
   "metadata": {},
   "outputs": [
    {
     "name": "stdout",
     "output_type": "stream",
     "text": [
      "[0]\n"
     ]
    }
   ],
   "source": [
    "print(clf.predict(trans[0:1]))"
   ]
  },
  {
   "cell_type": "code",
   "execution_count": 51,
   "id": "be45291b",
   "metadata": {},
   "outputs": [
    {
     "data": {
      "text/plain": [
       "array([[2, 3, 0]])"
      ]
     },
     "execution_count": 51,
     "metadata": {},
     "output_type": "execute_result"
    }
   ],
   "source": [
    "trans[0:1]"
   ]
  },
  {
   "cell_type": "code",
   "execution_count": null,
   "id": "3e6f43ac",
   "metadata": {},
   "outputs": [],
   "source": []
  }
 ],
 "metadata": {
  "kernelspec": {
   "display_name": "Python 3 (ipykernel)",
   "language": "python",
   "name": "python3"
  },
  "language_info": {
   "codemirror_mode": {
    "name": "ipython",
    "version": 3
   },
   "file_extension": ".py",
   "mimetype": "text/x-python",
   "name": "python",
   "nbconvert_exporter": "python",
   "pygments_lexer": "ipython3",
   "version": "3.8.10"
  }
 },
 "nbformat": 4,
 "nbformat_minor": 5
}
